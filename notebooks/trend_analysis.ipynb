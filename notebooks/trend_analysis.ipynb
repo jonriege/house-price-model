{
 "cells": [
  {
   "cell_type": "markdown",
   "metadata": {},
   "source": [
    "# Setup"
   ]
  },
  {
   "cell_type": "code",
   "execution_count": null,
   "metadata": {
    "pycharm": {
     "is_executing": true
    }
   },
   "outputs": [],
   "source": [
    "# Enable automatic reloading of modules\n",
    "%matplotlib inline\n",
    "%load_ext autoreload\n",
    "%autoreload 2"
   ]
  },
  {
   "cell_type": "code",
   "execution_count": null,
   "metadata": {},
   "outputs": [],
   "source": [
    "import os\n",
    "\n",
    "# Ensure the project level directory is the working directory\n",
    "if \"DIR_CHANGED\" in locals():\n",
    "    print(\"Directory already changed\")\n",
    "else:\n",
    "    project_dir = os.path.join(os.path.abspath(\"\") + \"/..\")\n",
    "    os.chdir(project_dir)\n",
    "    DIR_CHANGED = True"
   ]
  },
  {
   "cell_type": "code",
   "execution_count": null,
   "metadata": {},
   "outputs": [],
   "source": [
    "from requests import post\n",
    "import pandas as pd\n",
    "import plotly.express as px\n",
    "from statsmodels.tsa.ar_model import AutoReg\n",
    "from matplotlib import pyplot as plt\n",
    "\n",
    "from src.utils import load_config\n",
    "from src.data_loading import load_house_prices\n",
    "\n",
    "config = load_config()"
   ]
  },
  {
   "cell_type": "code",
   "execution_count": null,
   "metadata": {},
   "outputs": [],
   "source": [
    "df = load_house_prices(config)"
   ]
  },
  {
   "cell_type": "markdown",
   "metadata": {},
   "source": [
    "# Analysis"
   ]
  },
  {
   "cell_type": "code",
   "execution_count": null,
   "metadata": {},
   "outputs": [],
   "source": [
    "df[\"quarter\"] = df[\"kvartal\"].replace(\"K\", \"Q\", regex=True)\n",
    "df[\"quarter\"] = pd.PeriodIndex(df[\"quarter\"], freq=\"Q-DEC\").to_timestamp(freq=\"Q-DEC\")\n",
    "df = df.set_index(\"quarter\")\n",
    "df.index.freq = \"Q-DEC\""
   ]
  },
  {
   "cell_type": "markdown",
   "metadata": {},
   "source": [
    "## Quarterly house prices"
   ]
  },
  {
   "cell_type": "code",
   "execution_count": null,
   "metadata": {},
   "outputs": [],
   "source": [
    "fig = px.line(\n",
    "    df[\"value\"],\n",
    "    labels={\"quarter\": \"Date\", \"_value\": \"Price per m<sup>2</sup>\"},\n",
    "    title=\"Price index for existing dwellings\",\n",
    ")\n",
    "fig.show(renderer=\"notebook\")"
   ]
  },
  {
   "cell_type": "code",
   "execution_count": null,
   "metadata": {},
   "outputs": [],
   "source": [
    "def evaluate_model(model, df):\n",
    "    \"\"\"Plot standard diagnostics + model predictions\"\"\"\n",
    "    res = model.fit()\n",
    "    fig = plt.figure(figsize=(16, 9))\n",
    "    fig = res.plot_diagnostics(fig=fig, lags=30)\n",
    "    fig = plt.figure(figsize=(16, 7))\n",
    "    fig = res.plot_predict(0, 100, fig=fig)"
   ]
  },
  {
   "cell_type": "markdown",
   "metadata": {},
   "source": [
    "## Autoregressive model"
   ]
  },
  {
   "cell_type": "code",
   "execution_count": null,
   "metadata": {},
   "outputs": [],
   "source": [
    "model = AutoReg(df[\"value\"], lags=1)\n",
    "evaluate_model(model, df)"
   ]
  },
  {
   "cell_type": "code",
   "execution_count": null,
   "metadata": {},
   "outputs": [],
   "source": [
    "model = AutoReg(df[\"value\"], lags=4, seasonal=True)\n",
    "evaluate_model(model, df)"
   ]
  },
  {
   "cell_type": "code",
   "execution_count": null,
   "metadata": {},
   "outputs": [],
   "source": []
  }
 ],
 "metadata": {
  "kernelspec": {
   "display_name": "Python 3 (ipykernel)",
   "language": "python",
   "name": "python3"
  },
  "language_info": {
   "codemirror_mode": {
    "name": "ipython",
    "version": 3
   },
   "file_extension": ".py",
   "mimetype": "text/x-python",
   "name": "python",
   "nbconvert_exporter": "python",
   "pygments_lexer": "ipython3",
   "version": "3.10.9"
  },
  "toc": {
   "base_numbering": 1,
   "nav_menu": {},
   "number_sections": true,
   "sideBar": true,
   "skip_h1_title": false,
   "title_cell": "Table of Contents",
   "title_sidebar": "Contents",
   "toc_cell": false,
   "toc_position": {},
   "toc_section_display": true,
   "toc_window_display": false
  }
 },
 "nbformat": 4,
 "nbformat_minor": 1
}
